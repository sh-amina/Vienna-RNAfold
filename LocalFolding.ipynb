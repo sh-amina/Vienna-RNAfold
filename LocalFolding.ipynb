{
 "cells": [
  {
   "cell_type": "code",
   "execution_count": null,
   "metadata": {},
   "outputs": [],
   "source": [
    "import RNA\n",
    "import random"
   ]
  },
  {
   "cell_type": "markdown",
   "metadata": {},
   "source": [
    "# Local folding\n",
    "\n",
    "It is shown below how to locally fold RNAs with a restriction of the base pair span and in this way obtain local structures.\n",
    "\n",
    "In both shown variants, the output is written to a file."
   ]
  },
  {
   "cell_type": "code",
   "execution_count": 18,
   "metadata": {},
   "outputs": [],
   "source": [
    "## get some random input sequence\n",
    "sequence = \"\".join([ random.choice(\"ACGU\") for _ in range(200) ])"
   ]
  },
  {
   "cell_type": "code",
   "execution_count": 27,
   "metadata": {},
   "outputs": [
    {
     "data": {
      "text/plain": [
       "-23.200000762939453"
      ]
     },
     "execution_count": 27,
     "metadata": {},
     "output_type": "execute_result"
    }
   ],
   "source": [
    "# simpler call via method RNA.Lfold\n",
    "with open(\"output\",\"w\") as fh:\n",
    "    mfe = RNA.Lfold(sequence, 50, fh)\n",
    "mfe"
   ]
  },
  {
   "cell_type": "code",
   "execution_count": 28,
   "metadata": {},
   "outputs": [
    {
     "data": {
      "text/plain": [
       "-23.200000762939453"
      ]
     },
     "execution_count": 28,
     "metadata": {},
     "output_type": "execute_result"
    }
   ],
   "source": [
    "## preferable, more flexible method: local folding via fold_compound interface\n",
    "md = RNA.md()\n",
    "md.window_size = 50\n",
    "md.max_bp_span = 50\n",
    "\n",
    "fc = RNA.fold_compound(sequence,md,RNA.OPTION_WINDOW)\n",
    "\n",
    "with open(\"output\",\"w\") as fh:\n",
    "    mfe = fc.mfe_window(fh)\n",
    "mfe"
   ]
  },
  {
   "cell_type": "code",
   "execution_count": 29,
   "metadata": {},
   "outputs": [
    {
     "name": "stdout",
     "output_type": "stream",
     "text": [
      ".((......)). ( -0.10)   60\n",
      ".(((...(((....))).))). ( -2.10)   51\n",
      ".(((......))). ( -3.60)   49\n",
      ".((..(((((((.......)))))))...)). (-10.50)   41\n",
      ".(((.(..(((((((.......))))))).).))) (-13.10)   38\n",
      ".(((((...(((((.(((((......))).)).)))))))))). (-17.00)   29\n",
      ".((.(((((((.......))))))).)). (-14.20)   20\n",
      ".((((.......)))). ( -4.80)    9\n",
      ".(((.(.....).))). ( -2.70)    6\n",
      "\n"
     ]
    }
   ],
   "source": [
    "## read and show output\n",
    "with open(\"output\") as fh:\n",
    "    print(fh.read())"
   ]
  },
  {
   "cell_type": "markdown",
   "metadata": {},
   "source": [
    "# Constraint folding"
   ]
  },
  {
   "cell_type": "code",
   "execution_count": 65,
   "metadata": {},
   "outputs": [
    {
     "name": "stdout",
     "output_type": "stream",
     "text": [
      ".........(((..((((..((((.(((((((...........))))))).)))).....))))....))). -23.5\n"
     ]
    }
   ],
   "source": [
    "# some tRNA sequence\n",
    "#                    1         2         3         4        5          6         7\n",
    "#           123456789012345678901234567890123456789012345678901234567890123456789012\n",
    "#           (((((((.......((((..((((.(((((((...........))))))).)))).....))))))))))).\n",
    "sequence = \"GCCUUCCUAGCUCAGUGGUAGAGCGCACGGCUUUUAACCGUGUGGUCGUGGGUUCGAUCCCCACGGAAGGCG\"\n",
    "fc = RNA.fold_compound(sequence)\n",
    "\n",
    "# fold without constraints\n",
    "fc.mfe()\n",
    "print(s,e)"
   ]
  },
  {
   "cell_type": "code",
   "execution_count": 66,
   "metadata": {},
   "outputs": [
    {
     "name": "stdout",
     "output_type": "stream",
     "text": [
      "...((((((.(.....).))((.(((((((.......))))))).))(((((.......))))))))).... -24.0\n"
     ]
    }
   ],
   "source": [
    "# constrain some bases as unpaired and fold again\n",
    "for i in range(1,4): # constrain the first three bases\n",
    "    fc.hc_add_up(i)\n",
    "\n",
    "s, e = fc.mfe()\n",
    "print(s,e)"
   ]
  },
  {
   "cell_type": "code",
   "execution_count": 67,
   "metadata": {},
   "outputs": [
    {
     "name": "stdout",
     "output_type": "stream",
     "text": [
      ".........(((..((((..((((.(((((((...........))))))).)))).....))))....))). -23.5\n"
     ]
    }
   ],
   "source": [
    "# add a base pair constraint\n",
    "fc.hc_add_bp(15,64)\n",
    "\n",
    "# .. and fold again to show the effect\n",
    "s, e = fc.mfe()\n",
    "print(s,e)"
   ]
  },
  {
   "cell_type": "code",
   "execution_count": null,
   "metadata": {},
   "outputs": [],
   "source": []
  }
 ],
 "metadata": {
  "kernelspec": {
   "display_name": "Python 3",
   "language": "python",
   "name": "python3"
  },
  "language_info": {
   "codemirror_mode": {
    "name": "ipython",
    "version": 3
   },
   "file_extension": ".py",
   "mimetype": "text/x-python",
   "name": "python",
   "nbconvert_exporter": "python",
   "pygments_lexer": "ipython3",
   "version": "3.7.1"
  }
 },
 "nbformat": 4,
 "nbformat_minor": 5
}
